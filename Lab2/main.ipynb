{
 "cells": [
  {
   "cell_type": "code",
   "execution_count": 6,
   "metadata": {},
   "outputs": [],
   "source": [
    "import numpy as np"
   ]
  },
  {
   "cell_type": "code",
   "execution_count": 7,
   "metadata": {},
   "outputs": [],
   "source": [
    "# Написать метод Гаусса - Зейделя для решения Ax = b\n",
    "def solve_seidel(A, b, eps):\n",
    "    x = np.zeros_like(b)\n",
    "    n = len(b)\n",
    "    while True:\n",
    "        x_new = np.zeros_like(x)\n",
    "        for i in range(n):\n",
    "            s1 = np.dot(A[i, :i], x_new[:i])\n",
    "            s2 = np.dot(A[i, i + 1:], x[i + 1:])\n",
    "            x_new[i] = (b[i] - s1 - s2) / A[i, i]\n",
    "        if np.allclose(x, x_new, atol=eps):\n",
    "            break\n",
    "        x = x_new\n",
    "    return x\n",
    "     "
   ]
  },
  {
   "cell_type": "code",
   "execution_count": 10,
   "metadata": {},
   "outputs": [],
   "source": [
    "# Создать матрицу A размера n x n и вектор b размера n\n",
    "# A симметричная положительно определенная\n",
    "\n",
    "n = 100\n",
    "A = np.random.rand(n, n)\n",
    "A = A + A.T\n",
    "# Сделать матрицу A положительно определенной\n",
    "A = A + n * np.eye(n)\n",
    "b = np.random.rand(n)\n"
   ]
  },
  {
   "cell_type": "code",
   "execution_count": 12,
   "metadata": {},
   "outputs": [
    {
     "name": "stdout",
     "output_type": "stream",
     "text": [
      "8.668191606520589e-07\n",
      "1.941254007641067e-15\n",
      "2.1780700588619957\n"
     ]
    }
   ],
   "source": [
    "# Решить систему Ax = b методом Гаусса - Зейделя\n",
    "# Посчитать невязку и сравнить с eps\n",
    "# Посчитать число обусловленности матрицы A\n",
    "\n",
    "eps = 1e-15\n",
    "x = solve_seidel(A, b, eps)\n",
    "r = np.dot(A, x) - b\n",
    "print(np.linalg.norm(r))\n",
    "\n",
    "# Решить систему используя numpy.linalg.solve\n",
    "\n",
    "x = np.linalg.solve(A, b)\n",
    "r = np.dot(A, x) - b\n",
    "print(np.linalg.norm(r))\n",
    "\n",
    "# Посчитать число обусловленности матрицы A\n",
    "print(np.linalg.cond(A))\n"
   ]
  }
 ],
 "metadata": {
  "kernelspec": {
   "display_name": "Python 3.10.4 64-bit",
   "language": "python",
   "name": "python3"
  },
  "language_info": {
   "codemirror_mode": {
    "name": "ipython",
    "version": 3
   },
   "file_extension": ".py",
   "mimetype": "text/x-python",
   "name": "python",
   "nbconvert_exporter": "python",
   "pygments_lexer": "ipython3",
   "version": "3.10.4"
  },
  "orig_nbformat": 4,
  "vscode": {
   "interpreter": {
    "hash": "236c22e826bade4107540bcd2eea9cc7ad43537a3a4461f8e3fcc41291c54103"
   }
  }
 },
 "nbformat": 4,
 "nbformat_minor": 2
}
