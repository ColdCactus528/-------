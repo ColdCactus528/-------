{
 "cells": [
  {
   "cell_type": "code",
   "execution_count": 2,
   "metadata": {},
   "outputs": [],
   "source": [
    "import numpy as np"
   ]
  },
  {
   "cell_type": "code",
   "execution_count": 38,
   "metadata": {},
   "outputs": [],
   "source": [
    "# Реализовать метод Гаусса решения Ax = b\n",
    "def gauss(A, b):\n",
    "    n = len(A)\n",
    "    for i in range(n):\n",
    "        if A[i][i] == 0:\n",
    "            raise \"This method doesn't work\"\n",
    "        for j in range(i+1, n):\n",
    "            b[j] = b[j] - b[i] * A[j][i] / A[i][i]\n",
    "            for k in range(n):\n",
    "                A[j][k] = A[j][k] - A[i][k] * A[j][i] / A[i][i]\n",
    "    x = np.zeros(n)\n",
    "    for i in range(n-1, -1, -1):\n",
    "        x[i] = b[i]\n",
    "        for j in range(i+1, n):\n",
    "            x[i] = x[i] - A[i][j] * x[j]\n",
    "        x[i] = x[i] / A[i][i]\n",
    "    return x"
   ]
  },
  {
   "cell_type": "code",
   "execution_count": 14,
   "metadata": {},
   "outputs": [],
   "source": [
    "# Реализовать метод Гаусса с выбором главного элемента\n",
    "def gauss_with_main_element(A, b):\n",
    "    n = len(A)\n",
    "    for i in range(n):\n",
    "        max = A[i][i]\n",
    "        max_index = i\n",
    "        for j in range(i+1, n):\n",
    "            if abs(A[j][i]) > abs(max):\n",
    "                max = A[j][i]\n",
    "                max_index = j\n",
    "        if max_index != i:\n",
    "            A[i], A[max_index] = A[max_index], A[i]\n",
    "            b[i], b[max_index] = b[max_index], b[i]\n",
    "        for j in range(i+1, n):\n",
    "            b[j] = b[j] - b[i] * A[j][i] / A[i][i]\n",
    "            for k in range(n):\n",
    "                A[j][k] = A[j][k] - A[i][k] * A[j][i] / A[i][i]\n",
    "    x = np.zeros(n)\n",
    "    for i in range(n-1, -1, -1):\n",
    "        x[i] = b[i]\n",
    "        for j in range(i+1, n):\n",
    "            x[i] = x[i] - A[i][j] * x[j]\n",
    "        x[i] = x[i] / A[i][i]\n",
    "    return x"
   ]
  },
  {
   "cell_type": "code",
   "execution_count": 41,
   "metadata": {},
   "outputs": [],
   "source": [
    "# Составить матрицу A размерностью n x n и b размерностью n x 1\n",
    "n = 100\n",
    "# # Создать матрицу A так чтобы все угловые миноры были не равны нулю\n",
    "# A = np.zeros((n, n))\n",
    "# for i in range(n):\n",
    "#     for j in range(n):\n",
    "#         A[i][j] = 1 / (i + j + 1)\n",
    "# # Создать вектор b \n",
    "# b = np.random.rand(n)\n",
    " \n",
    " \n",
    "A = np.array([[0, 0, 1/3], [1, 2, 6], [3, 8, 9]])\n",
    "b = np.array([1, 2, 3])\n"
   ]
  },
  {
   "cell_type": "code",
   "execution_count": 42,
   "metadata": {},
   "outputs": [
    {
     "name": "stdout",
     "output_type": "stream",
     "text": [
      "This method doesn't work\n",
      "7.105427357601002e-15\n",
      "0.0\n"
     ]
    }
   ],
   "source": [
    "# Решить систему Ax = b\n",
    "# Посчитать невязку r = Ax - b\n",
    "# Сравнить с решением из numpy\n",
    "\n",
    "try:\n",
    "    x = gauss(A, b)\n",
    "    r = np.dot(A, x) - b\n",
    "    print(np.linalg.norm(r))\n",
    "except:\n",
    "    print(\"This method doesn't work\")\n",
    "\n",
    " \n",
    "x = np.linalg.solve(A, b)\n",
    "r = np.dot(A, x) - b\n",
    "print(np.linalg.norm(r))\n",
    "\n",
    "x = gauss_with_main_element(A, b)\n",
    "r = np.dot(A, x) - b\n",
    "print(np.linalg.norm(r))\n"
   ]
  }
 ],
 "metadata": {
  "kernelspec": {
   "display_name": "Python 3.10.4 64-bit",
   "language": "python",
   "name": "python3"
  },
  "language_info": {
   "codemirror_mode": {
    "name": "ipython",
    "version": 3
   },
   "file_extension": ".py",
   "mimetype": "text/x-python",
   "name": "python",
   "nbconvert_exporter": "python",
   "pygments_lexer": "ipython3",
   "version": "3.10.4"
  },
  "orig_nbformat": 4,
  "vscode": {
   "interpreter": {
    "hash": "236c22e826bade4107540bcd2eea9cc7ad43537a3a4461f8e3fcc41291c54103"
   }
  }
 },
 "nbformat": 4,
 "nbformat_minor": 2
}
